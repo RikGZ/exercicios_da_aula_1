{
 "cells": [
  {
   "cell_type": "markdown",
   "id": "cb2d2036",
   "metadata": {},
   "source": [
    "# exercicio 1 do slide"
   ]
  },
  {
   "cell_type": "code",
   "execution_count": 2,
   "id": "09728dd4",
   "metadata": {},
   "outputs": [
    {
     "name": "stdout",
     "output_type": "stream",
     "text": [
      "primeiro 5.206896551724138\n"
     ]
    }
   ],
   "source": [
    "print(\"primeiro\", (5*(10-4)**2)/(3**3+2)-1)"
   ]
  },
  {
   "cell_type": "markdown",
   "id": "6116356e",
   "metadata": {},
   "source": [
    "# exercicio 2 do slide"
   ]
  },
  {
   "cell_type": "code",
   "execution_count": 3,
   "id": "16acb668",
   "metadata": {},
   "outputs": [
    {
     "name": "stdout",
     "output_type": "stream",
     "text": [
      "segundo 10.0\n"
     ]
    }
   ],
   "source": [
    "print(\"segundo\",((8-2)**2+(11-3)**2)**0.5)"
   ]
  },
  {
   "cell_type": "markdown",
   "id": "f2a5de7a",
   "metadata": {},
   "source": [
    "# outro exercicio 1 do slide"
   ]
  },
  {
   "cell_type": "code",
   "execution_count": 4,
   "id": "8d09158c",
   "metadata": {},
   "outputs": [
    {
     "name": "stdout",
     "output_type": "stream",
     "text": [
      "terceiro 7.55\n"
     ]
    }
   ],
   "source": [
    "print(\"terceiro\",(7*3 + 8.5*5+6*2)/10)"
   ]
  }
 ],
 "metadata": {
  "kernelspec": {
   "display_name": "Python 3",
   "language": "python",
   "name": "python3"
  },
  "language_info": {
   "codemirror_mode": {
    "name": "ipython",
    "version": 3
   },
   "file_extension": ".py",
   "mimetype": "text/x-python",
   "name": "python",
   "nbconvert_exporter": "python",
   "pygments_lexer": "ipython3",
   "version": "3.13.5"
  }
 },
 "nbformat": 4,
 "nbformat_minor": 5
}
